{
 "cells": [
  {
   "cell_type": "code",
   "execution_count": 39,
   "metadata": {},
   "outputs": [
    {
     "name": "stdout",
     "output_type": "stream",
     "text": [
      "list_word_a:  ['e', 'i', 'l', 'n', 's', 't']\n",
      "count_word_a:  6\n"
     ]
    }
   ],
   "source": [
    "word_a = 'Silent'\n",
    "ls_word_a = sorted(word_a.lower())\n",
    "count_word_a = len(word_a)\n",
    "print('list_word_a: ', ls_word_a)\n",
    "print('count_word_a: ', count_word_a)"
   ]
  },
  {
   "cell_type": "code",
   "execution_count": 38,
   "metadata": {},
   "outputs": [
    {
     "name": "stdout",
     "output_type": "stream",
     "text": [
      "list_word_b:  ['e', 'i', 'l', 'n', 's', 't']\n",
      "count_word_b:  6\n"
     ]
    }
   ],
   "source": [
    "word_b = 'Listen'\n",
    "ls_word_b = sorted(word_b.lower())\n",
    "count_word_b = len(word_b)\n",
    "print('list_word_b: ', ls_word_b)\n",
    "print('count_word_b: ', count_word_b)"
   ]
  },
  {
   "cell_type": "code",
   "execution_count": 36,
   "metadata": {},
   "outputs": [
    {
     "name": "stdout",
     "output_type": "stream",
     "text": [
      "False\n"
     ]
    }
   ],
   "source": [
    "case_police = print(sorted(word_a) == sorted(word_b))"
   ]
  },
  {
   "cell_type": "code",
   "execution_count": 40,
   "metadata": {},
   "outputs": [
    {
     "name": "stdout",
     "output_type": "stream",
     "text": [
      "True\n"
     ]
    }
   ],
   "source": [
    "anagram_checker2 = print(ls_word_a == ls_word_b)"
   ]
  },
  {
   "cell_type": "code",
   "execution_count": 41,
   "metadata": {},
   "outputs": [],
   "source": [
    "anagram_checker2 and case_police "
   ]
  },
  {
   "cell_type": "code",
   "execution_count": null,
   "metadata": {},
   "outputs": [],
   "source": []
  },
  {
   "cell_type": "code",
   "execution_count": 18,
   "metadata": {},
   "outputs": [
    {
     "data": {
      "text/plain": [
       "True"
      ]
     },
     "execution_count": 18,
     "metadata": {},
     "output_type": "execute_result"
    }
   ],
   "source": [
    "ls_word_a == ls_word_b "
   ]
  },
  {
   "cell_type": "code",
   "execution_count": 19,
   "metadata": {},
   "outputs": [
    {
     "data": {
      "text/plain": [
       "True"
      ]
     },
     "execution_count": 19,
     "metadata": {},
     "output_type": "execute_result"
    }
   ],
   "source": [
    "count_word_a == count_word_b"
   ]
  },
  {
   "cell_type": "code",
   "execution_count": 42,
   "metadata": {},
   "outputs": [],
   "source": [
    "def anagram_checker(w_a, w_b):\n",
    "    ls_a = sorted(w_a.lower())\n",
    "    ls_b = sorted(w_b.lower())\n",
    "    return print(ls_a == ls_b)\n",
    "    "
   ]
  },
  {
   "cell_type": "code",
   "execution_count": 43,
   "metadata": {},
   "outputs": [
    {
     "name": "stdout",
     "output_type": "stream",
     "text": [
      "True\n"
     ]
    }
   ],
   "source": [
    "anagram_checker (\"Silent\", \"Listen\")"
   ]
  },
  {
   "cell_type": "code",
   "execution_count": 44,
   "metadata": {},
   "outputs": [
    {
     "name": "stdout",
     "output_type": "stream",
     "text": [
      "False\n"
     ]
    }
   ],
   "source": [
    "anagram_checker (\"Silent\", \"Night\")"
   ]
  },
  {
   "cell_type": "code",
   "execution_count": 45,
   "metadata": {},
   "outputs": [
    {
     "name": "stdout",
     "output_type": "stream",
     "text": [
      "True\n"
     ]
    }
   ],
   "source": [
    "anagram_checker (\"night\", \"Thing\")"
   ]
  },
  {
   "cell_type": "code",
   "execution_count": 47,
   "metadata": {},
   "outputs": [],
   "source": [
    "def anagram_checker(w_a, w_b):\n",
    "    ls_a = sorted(w_a.lower())\n",
    "    ls_b = sorted(w_b.lower())\n",
    "    return print(ls_a == ls_b)"
   ]
  },
  {
   "cell_type": "code",
   "execution_count": 48,
   "metadata": {},
   "outputs": [
    {
     "name": "stdout",
     "output_type": "stream",
     "text": [
      "True\n"
     ]
    }
   ],
   "source": [
    "anagram_checker(\"Silent\", \"Listen\")"
   ]
  },
  {
   "cell_type": "code",
   "execution_count": 52,
   "metadata": {},
   "outputs": [],
   "source": [
    "def anagram_checker_case(w_a, w_b):\n",
    "    ls_a = sorted(w_a.lower().replace(' ',''))\n",
    "    ls_b = sorted(w_b.lower().replace(' ',''))\n",
    "    return print(ls_a == ls_b)"
   ]
  },
  {
   "cell_type": "code",
   "execution_count": 53,
   "metadata": {},
   "outputs": [
    {
     "name": "stdout",
     "output_type": "stream",
     "text": [
      "True\n"
     ]
    }
   ],
   "source": [
    "anagram_checker_case(\"Silent\", \"Listen    \")"
   ]
  },
  {
   "cell_type": "code",
   "execution_count": 56,
   "metadata": {},
   "outputs": [],
   "source": [
    "# Question 2 requirement: \n",
    "     # if our anagram_checker case_sensitivity is turned OFF, then \"SILENT\" and \"silent\" will pass as TRUE. \n",
    "     # if our anagram_checker case_sensitivity is turned ON, then \"SILENT\" and \"silent\" will FAIL.\n",
    "\n",
    "def anagram_checker_2(w_a, w_b, case_sensitivity):\n",
    "    ls_a = sorted(w_a.lower().replace(' ',''))\n",
    "    ls_b = sorted(w_b.lower().replace(' ',''))\n",
    "    ls_a_cs = sorted(w_a.replace(' ',''))\n",
    "    ls_b_cs = sorted(w_b.replace(' ',''))\n",
    "    \n",
    "    if case_sensitivity: # turn ON case-sensitivity \n",
    "        return print(ls_a_cs == ls_b_cs)\n",
    "    else: # turn OFF case-sensitivity\n",
    "        return print(ls_a == ls_b)\n",
    "\n",
    "        \n",
    "    "
   ]
  },
  {
   "cell_type": "code",
   "execution_count": 57,
   "metadata": {},
   "outputs": [
    {
     "name": "stdout",
     "output_type": "stream",
     "text": [
      "False\n",
      "True\n"
     ]
    }
   ],
   "source": [
    "anagram_checker_2 ('SILENT', 'listen', True)\n",
    "anagram_checker_2 ('SILENT', 'listen', False)"
   ]
  },
  {
   "cell_type": "code",
   "execution_count": null,
   "metadata": {},
   "outputs": [],
   "source": []
  }
 ],
 "metadata": {
  "kernelspec": {
   "display_name": "DSI_participant",
   "language": "python",
   "name": "python3"
  },
  "language_info": {
   "codemirror_mode": {
    "name": "ipython",
    "version": 3
   },
   "file_extension": ".py",
   "mimetype": "text/x-python",
   "name": "python",
   "nbconvert_exporter": "python",
   "pygments_lexer": "ipython3",
   "version": "3.9.15"
  }
 },
 "nbformat": 4,
 "nbformat_minor": 2
}
