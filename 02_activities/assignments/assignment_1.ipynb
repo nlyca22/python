{
 "cells": [
  {
   "cell_type": "markdown",
   "metadata": {},
   "source": [
    "# Assignment #1: Anagram Checker\n",
    "\n",
    "**Background**: Anagram Checker is a program that takes two words and determines if an anagram can be made from it. If so, the program will return `true`, otherwise `false`."
   ]
  },
  {
   "cell_type": "markdown",
   "metadata": {},
   "source": [
    "## Submission Information\n",
    "\n",
    "🚨 **Please review our [Assignment Submission Guide](https://github.com/UofT-DSI/onboarding/blob/main/onboarding_documents/submissions.md)** 🚨 for detailed instructions on how to format, branch, and submit your work. Following these guidelines is crucial for your submissions to be evaluated correctly.\n",
    "\n",
    "### Submission Parameters:\n",
    "* Submission Due Date: `11:59 PM - 05/05/2024`\n",
    "* The branch name for your repo should be: `assignment-1`\n",
    "* What to submit for this assignment:\n",
    "    * This Jupyter Notebook (assignment_1.ipynb) should be populated and should be the only change in your pull request.\n",
    "* What the pull request link should look like for this assignment: `https://github.com/<your_github_username>/python/pull/<pr_id>`\n",
    "    * Open a private window in your browser. Copy and paste the link to your pull request into the address bar. Make sure you can see your pull request properly. This helps the technical facilitator and learning support staff review your submission easily.\n",
    "\n",
    "Checklist:\n",
    "- [ ] Created a branch with the correct naming convention.\n",
    "- [ ] Ensured that the repository is public.\n",
    "- [ ] Reviewed the PR description guidelines and adhered to them.\n",
    "- [ ] Verify that the link is accessible in a private browser window.\n",
    "\n",
    "If you encounter any difficulties or have questions, please don't hesitate to reach out to our team via our Slack at `#cohort-3-help`. Our Technical Facilitators and Learning Support staff are here to help you navigate any challenges."
   ]
  },
  {
   "cell_type": "markdown",
   "metadata": {},
   "source": [
    "### Part 1: Building the base Anagram Checker\n",
    "\n",
    "Given two valid strings, check to see if they are anagrams of each other. If it is, return `True`, else `False`. For this part, we can assume that uppercase letters are the same as if it was a lowercase character.\n",
    "\n",
    "Examples of anagrams:\n",
    "* Slient and Listen\n",
    "* Night and Think\n",
    "\n",
    "Example outputs:\n",
    "```python\n",
    "anagram_checker(\"Slient\", \"listen\") # True\n",
    "anagram_checker(\"Slient\", \"Night\") # False\n",
    "anagram_checker(\"night\", \"Thing\") # True\n",
    "```"
   ]
  },
  {
   "cell_type": "code",
   "execution_count": 35,
   "metadata": {},
   "outputs": [
    {
     "ename": "IndentationError",
     "evalue": "expected an indented block (33599949.py, line 6)",
     "output_type": "error",
     "traceback": [
      "\u001b[1;36m  Cell \u001b[1;32mIn[35], line 6\u001b[1;36m\u001b[0m\n\u001b[1;33m    anagram_checker(\"Silent\", \"listen\")\u001b[0m\n\u001b[1;37m    ^\u001b[0m\n\u001b[1;31mIndentationError\u001b[0m\u001b[1;31m:\u001b[0m expected an indented block\n"
     ]
    }
   ],
   "source": [
    "# This is a function, which we will learn more about next week. For testing purposes, we will write our code in the function\n",
    "def anagram_checker(word_a, word_b):\n",
    "  # Your code here\n",
    "\n",
    "# Run your code to check using the words below:\n",
    "anagram_checker(\"Silent\", \"listen\")\n",
    "anagram_checker(\"Silent\", \"Night\")\n",
    "anagram_checker(\"night\", \"Thing\")\n"
   ]
  },
  {
   "cell_type": "markdown",
   "metadata": {},
   "source": [
    "## PLEASE SEE MY ANSWER BELOW\n",
    "\n",
    "   "
   ]
  },
  {
   "cell_type": "code",
   "execution_count": 36,
   "metadata": {},
   "outputs": [],
   "source": [
    "# I would approach this by: \n",
    "   # Step 1: List all letters in a word - and since we're using lists and not sets, I would sort the letters in the lists in alphabetical order before comparing.\n",
    "   # Step 2: Ensure that all letters are converted to lowercase (to remove case sensitivity), and any space removed to factor in typo. \n",
    "   # Step 3: Compare the 2 lists if they're the same - with a boolean command.   \n",
    "\n",
    "\n",
    "def anagram_checker(word_a, word_b):     \n",
    "   # Step 1 and Step 2: Sort letters in a word by alphabetical order using sorted(), convert all to lowercase with .lower(), removing any space with .replace()\n",
    "   list_a = sorted(word_a.lower().replace(' ',''))  \n",
    "   list_b = sorted(word_b.lower().replace(' ',''))  \n",
    "\n",
    "   # Step 3: Compare the 2 lists if they're the same - with a boolean command. \n",
    "   return print(list_a == list_b) # Step 3 "
   ]
  },
  {
   "cell_type": "code",
   "execution_count": 37,
   "metadata": {},
   "outputs": [
    {
     "name": "stdout",
     "output_type": "stream",
     "text": [
      "True\n",
      "False\n",
      "True\n",
      "True\n",
      "False\n",
      "True\n"
     ]
    }
   ],
   "source": [
    "# Checking the result\n",
    "anagram_checker(\"Slient\", \"listen\") # True\n",
    "anagram_checker(\"Slient\", \"Night\") # False\n",
    "anagram_checker(\"night\", \"Thing\") # True\n",
    "\n",
    "anagram_checker(\"Slient   \", \"listen\") # True\n",
    "anagram_checker(\"Slient\", \"Night   \") # False\n",
    "anagram_checker(\"  night\", \"Thing\") # True"
   ]
  },
  {
   "cell_type": "markdown",
   "metadata": {},
   "source": [
    "### Part 2: Expanding the functionality of the Anagram Checker\n",
    "\n",
    "Using your existing and functional anagram checker, let's add a boolean option called `is_case_sensitive`, which will return `True` or `False` based on if the two compared words are anagrams and if we are checking for case sensitivity.\n"
   ]
  },
  {
   "cell_type": "code",
   "execution_count": 38,
   "metadata": {},
   "outputs": [
    {
     "ename": "IndentationError",
     "evalue": "expected an indented block (2508759340.py, line 5)",
     "output_type": "error",
     "traceback": [
      "\u001b[1;36m  Cell \u001b[1;32mIn[38], line 5\u001b[1;36m\u001b[0m\n\u001b[1;33m    anagram_checker(\"Slient\", \"listen\", False) # True\u001b[0m\n\u001b[1;37m    ^\u001b[0m\n\u001b[1;31mIndentationError\u001b[0m\u001b[1;31m:\u001b[0m expected an indented block\n"
     ]
    }
   ],
   "source": [
    "def anagram_checker(word_a, word_b, is_case_sensitive):\n",
    "  # Modify your existing code here\n",
    "\n",
    "# Run your code to check using the words below:\n",
    "anagram_checker(\"Slient\", \"listen\", False) # True\n",
    "anagram_checker(\"Slient\", \"Listen\", True) # False"
   ]
  },
  {
   "cell_type": "markdown",
   "metadata": {},
   "source": [
    "## PLEASE SEE MY ANSWER BELOW"
   ]
  },
  {
   "cell_type": "code",
   "execution_count": 39,
   "metadata": {},
   "outputs": [],
   "source": [
    "# I would translate Question 2 requirement as below: \n",
    "     # if our anagram_checker case_sensitivity is turned OFF, then \"SILENT\" and \"silent\" will pass as TRUE. \n",
    "     # if our anagram_checker case_sensitivity is turned ON, then \"SILENT\" and \"silent\" will FAIL.\n",
    "\n",
    "\n",
    "def anagram_checker(word_a, word_b, is_case_sensitive):\n",
    "     # Use the following variables if our anagram_checker case sensitivity is turned OFF - by applying .lower().\n",
    "    list_a = sorted(word_a.lower().replace(' ',''))\n",
    "    list_b = sorted(word_b.lower().replace(' ',''))\n",
    "    \n",
    "     # Use the the following variables if our anagram_checker case sensitivity is turned ON. \n",
    "    list_a_case_sensitivity = sorted(word_a.replace(' ',''))\n",
    "    list_b_case_sensitivity = sorted(word_b.replace(' ',''))\n",
    "    \n",
    "    if is_case_sensitive: # turn ON case-sensitivity \n",
    "        return print(list_a_case_sensitivity == list_b_case_sensitivity)\n",
    "    else: # turn OFF case-sensitivity\n",
    "        return print(list_a == list_b)"
   ]
  },
  {
   "cell_type": "code",
   "execution_count": 40,
   "metadata": {},
   "outputs": [
    {
     "name": "stdout",
     "output_type": "stream",
     "text": [
      "False\n",
      "True\n",
      "False\n",
      "False\n"
     ]
    }
   ],
   "source": [
    "# Checking the result\n",
    "anagram_checker(\"SILENT\", \"listen   \", True) # False. Reason: this should FAIL, because case-sensitivity check is ON. \n",
    "anagram_checker(\"SILENT\", \"listen   \", False) # True. Reason: this should PASS, because case-sensitivity check is OFF. \n",
    "\n",
    "anagram_checker(\"SILENT\", \"night   \", True) # False. Reason: these 2 words are not an anagram of eachother. \n",
    "anagram_checker(\"SILENT\", \"night   \", False) # False. Reason: these 2 words are not an anagram of eachother. \n"
   ]
  },
  {
   "cell_type": "markdown",
   "metadata": {},
   "source": [
    "|Criteria|Pass|Fail|\n",
    "|---|---|---|\n",
    "|Code Execution|All code cells execute without errors.|Any code cell produces an error upon execution.|\n",
    "|Code Quality|Code is well-organized, concise, and includes necessary comments for clarity. E.g. Great use of variable names.|Code is unorganized, verbose, or lacks necessary comments. E.g. Single character variable names outside of loops.|"
   ]
  }
 ],
 "metadata": {
  "kernelspec": {
   "display_name": "new-learner",
   "language": "python",
   "name": "python3"
  },
  "language_info": {
   "codemirror_mode": {
    "name": "ipython",
    "version": 3
   },
   "file_extension": ".py",
   "mimetype": "text/x-python",
   "name": "python",
   "nbconvert_exporter": "python",
   "pygments_lexer": "ipython3",
   "version": "3.9.15"
  }
 },
 "nbformat": 4,
 "nbformat_minor": 2
}
